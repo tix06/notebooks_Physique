{
 "cells": [
  {
   "cell_type": "markdown",
   "id": "catholic-heater",
   "metadata": {},
   "source": [
    "# Partie 1: Etude d'une trajectoire parabolique"
   ]
  },
  {
   "cell_type": "markdown",
   "id": "reflected-sympathy",
   "metadata": {},
   "source": [
    "Le fichier *data_parabolique.csv* contient les données de la trajectoire d'un projectile ponctuel dans le champ de pesanteur\n",
    "(la résistance de l'air est négligée).\n",
    "\n",
    "Dans cette experience, on a enregistré la trajectoire d'une boule de pétanque de **750 grammes**, lancée avec une vitesse initiale de **6 m/s** et un angle de 60° vers le haut (mesuré par rapport à la surface horizontale du sol).\n",
    "\n",
    "Le mouvement est repéré dans le référentiel terrestre. Ce référentiel est muni d'un repère orthonormé (O,x,y,z).\n",
    "\n",
    "Les unités seront prises dans le système international:\n",
    "\n",
    "* t en s\n",
    "* x et z en m\n",
    "* vx et vz en m/s\n",
    "* Ec, Ep, et Em en J\n",
    "\n",
    "> 1. Executer la cellule suivante pour charger les données:\n"
   ]
  },
  {
   "cell_type": "code",
   "execution_count": 1,
   "id": "tired-accent",
   "metadata": {},
   "outputs": [
    {
     "data": {
      "text/html": [
       "<div>\n",
       "<style scoped>\n",
       "    .dataframe tbody tr th:only-of-type {\n",
       "        vertical-align: middle;\n",
       "    }\n",
       "\n",
       "    .dataframe tbody tr th {\n",
       "        vertical-align: top;\n",
       "    }\n",
       "\n",
       "    .dataframe thead th {\n",
       "        text-align: right;\n",
       "    }\n",
       "</style>\n",
       "<table border=\"1\" class=\"dataframe\">\n",
       "  <thead>\n",
       "    <tr style=\"text-align: right;\">\n",
       "      <th></th>\n",
       "      <th>t</th>\n",
       "      <th>x</th>\n",
       "      <th>z</th>\n",
       "      <th>vx</th>\n",
       "      <th>vz</th>\n",
       "    </tr>\n",
       "  </thead>\n",
       "  <tbody>\n",
       "    <tr>\n",
       "      <th>0</th>\n",
       "      <td>0.00</td>\n",
       "      <td>0.00</td>\n",
       "      <td>1.00</td>\n",
       "      <td>3</td>\n",
       "      <td>5.20</td>\n",
       "    </tr>\n",
       "    <tr>\n",
       "      <th>1</th>\n",
       "      <td>0.04</td>\n",
       "      <td>0.12</td>\n",
       "      <td>1.20</td>\n",
       "      <td>3</td>\n",
       "      <td>4.80</td>\n",
       "    </tr>\n",
       "    <tr>\n",
       "      <th>2</th>\n",
       "      <td>0.08</td>\n",
       "      <td>0.24</td>\n",
       "      <td>1.38</td>\n",
       "      <td>3</td>\n",
       "      <td>4.41</td>\n",
       "    </tr>\n",
       "    <tr>\n",
       "      <th>3</th>\n",
       "      <td>0.12</td>\n",
       "      <td>0.36</td>\n",
       "      <td>1.55</td>\n",
       "      <td>3</td>\n",
       "      <td>4.02</td>\n",
       "    </tr>\n",
       "    <tr>\n",
       "      <th>4</th>\n",
       "      <td>0.16</td>\n",
       "      <td>0.48</td>\n",
       "      <td>1.71</td>\n",
       "      <td>3</td>\n",
       "      <td>3.63</td>\n",
       "    </tr>\n",
       "    <tr>\n",
       "      <th>...</th>\n",
       "      <td>...</td>\n",
       "      <td>...</td>\n",
       "      <td>...</td>\n",
       "      <td>...</td>\n",
       "      <td>...</td>\n",
       "    </tr>\n",
       "    <tr>\n",
       "      <th>196</th>\n",
       "      <td>7.84</td>\n",
       "      <td>23.52</td>\n",
       "      <td>-259.75</td>\n",
       "      <td>3</td>\n",
       "      <td>-71.71</td>\n",
       "    </tr>\n",
       "    <tr>\n",
       "      <th>197</th>\n",
       "      <td>7.88</td>\n",
       "      <td>23.64</td>\n",
       "      <td>-262.63</td>\n",
       "      <td>3</td>\n",
       "      <td>-72.11</td>\n",
       "    </tr>\n",
       "    <tr>\n",
       "      <th>198</th>\n",
       "      <td>7.92</td>\n",
       "      <td>23.76</td>\n",
       "      <td>-265.52</td>\n",
       "      <td>3</td>\n",
       "      <td>-72.50</td>\n",
       "    </tr>\n",
       "    <tr>\n",
       "      <th>199</th>\n",
       "      <td>7.96</td>\n",
       "      <td>23.88</td>\n",
       "      <td>-268.43</td>\n",
       "      <td>3</td>\n",
       "      <td>-72.89</td>\n",
       "    </tr>\n",
       "    <tr>\n",
       "      <th>200</th>\n",
       "      <td>8.00</td>\n",
       "      <td>24.00</td>\n",
       "      <td>-271.35</td>\n",
       "      <td>3</td>\n",
       "      <td>-73.28</td>\n",
       "    </tr>\n",
       "  </tbody>\n",
       "</table>\n",
       "<p>201 rows × 5 columns</p>\n",
       "</div>"
      ],
      "text/plain": [
       "        t      x       z  vx     vz\n",
       "0    0.00   0.00    1.00   3   5.20\n",
       "1    0.04   0.12    1.20   3   4.80\n",
       "2    0.08   0.24    1.38   3   4.41\n",
       "3    0.12   0.36    1.55   3   4.02\n",
       "4    0.16   0.48    1.71   3   3.63\n",
       "..    ...    ...     ...  ..    ...\n",
       "196  7.84  23.52 -259.75   3 -71.71\n",
       "197  7.88  23.64 -262.63   3 -72.11\n",
       "198  7.92  23.76 -265.52   3 -72.50\n",
       "199  7.96  23.88 -268.43   3 -72.89\n",
       "200  8.00  24.00 -271.35   3 -73.28\n",
       "\n",
       "[201 rows x 5 columns]"
      ]
     },
     "execution_count": 1,
     "metadata": {},
     "output_type": "execute_result"
    }
   ],
   "source": [
    "import pandas as pd  \n",
    "import matplotlib.pyplot as plt\n",
    "data = pd.read_csv(\"data_parabolique.csv\",sep=\";\")\n",
    "data"
   ]
  },
  {
   "cell_type": "markdown",
   "id": "unlimited-caribbean",
   "metadata": {},
   "source": [
    "> 2. Rechercher la valeur de la hauteur initiale de la boule. Noter cette valeur sur le cahier."
   ]
  },
  {
   "cell_type": "markdown",
   "id": "oriental-daughter",
   "metadata": {},
   "source": [
    "> 3. Executer ensuite la cellule suivante, pour afficher le graphique de la trajectoire."
   ]
  },
  {
   "cell_type": "code",
   "execution_count": null,
   "id": "mounted-annex",
   "metadata": {},
   "outputs": [],
   "source": [
    "plt.scatter(data.x,data.z)\n",
    "plt.show()"
   ]
  },
  {
   "cell_type": "markdown",
   "id": "atlantic-split",
   "metadata": {},
   "source": [
    "> 4. Rechercher la hauteur maximale atteinte par la boule. \n",
    "\n",
    "Aide: la valeur maximale d'une colonne s'obtient grace à la fonction `max`:\n",
    "\n",
    "*Exemple: dans une cellule python*\n",
    "\n",
    "```python\n",
    "max(data.t)\n",
    "# affiche 8.0\n",
    "```"
   ]
  },
  {
   "cell_type": "code",
   "execution_count": null,
   "id": "through-right",
   "metadata": {},
   "outputs": [],
   "source": []
  },
  {
   "cell_type": "markdown",
   "id": "interstate-payment",
   "metadata": {},
   "source": [
    "> 5. Rechercher la portée du lancé (endroit où la boule touche le sol)"
   ]
  },
  {
   "cell_type": "code",
   "execution_count": null,
   "id": "positive-jacket",
   "metadata": {},
   "outputs": [],
   "source": []
  },
  {
   "cell_type": "markdown",
   "id": "binding-pottery",
   "metadata": {},
   "source": [
    "> 6. Faire alors un schéma paramétré de l'experience sur votre cahier."
   ]
  },
  {
   "cell_type": "markdown",
   "id": "lucky-milwaukee",
   "metadata": {},
   "source": [
    "# Partie 2: Conservation de l'Energie Mécanique"
   ]
  },
  {
   "cell_type": "markdown",
   "id": "surprising-method",
   "metadata": {},
   "source": [
    "## Energie cinétique\n",
    "Pour un objet de masse m et de vitesse v:\n",
    "\n",
    "$$Ec = 0.5 * m * v^2$$\n",
    "\n",
    "## Energie potentielle\n",
    "Pour un objet de masse m situé à une hauteur z dans le champ de pesanteur d'intensité g:\n",
    "\n",
    "$$Ep = m * g * h + Constante$$\n",
    "\n",
    "Souvent, cette constante sera prise comme egale à zero."
   ]
  },
  {
   "cell_type": "markdown",
   "id": "excessive-watch",
   "metadata": {},
   "source": [
    "> 1. Ajouter aux données du dataframe les colonnes:\n",
    "    * v2: somme des carrés des vitesses vx et vz, $v2 = vx^2 + vz^2$\n",
    "    * Ec\n",
    "    * Ep\n",
    "    \n",
    "*Aide:* L'exposant s'écrit en python avec 2 étoiles `**`:\n",
    "\n",
    "```python\n",
    "3**2\n",
    "# affiche 9\n",
    "```"
   ]
  },
  {
   "cell_type": "code",
   "execution_count": null,
   "id": "daily-motivation",
   "metadata": {},
   "outputs": [],
   "source": [
    "data[\"v2\"] = # à compléter\n",
    "data[\"Ec\"]\n",
    "data[\"Ep\"]\n",
    "data"
   ]
  },
  {
   "cell_type": "markdown",
   "id": "silent-delay",
   "metadata": {},
   "source": [
    "> 2. Afficher alors les graphiques Ec en fonction de l'axe x, puis Ep en fonction de l'axe x."
   ]
  },
  {
   "cell_type": "code",
   "execution_count": null,
   "id": "waiting-compiler",
   "metadata": {},
   "outputs": [],
   "source": [
    "plt.scatter( # à completer\n",
    "plt.show()"
   ]
  },
  {
   "cell_type": "markdown",
   "id": "urban-indonesia",
   "metadata": {},
   "source": [
    "> 3. Ajouter une nouvelle colonne \"Em\", énergie mécanique. $Em = Ec + Ep$"
   ]
  },
  {
   "cell_type": "code",
   "execution_count": null,
   "id": "continental-insurance",
   "metadata": {},
   "outputs": [],
   "source": [
    "data[\"Em\"] = # à compléter\n",
    "data"
   ]
  },
  {
   "cell_type": "markdown",
   "id": "brutal-launch",
   "metadata": {},
   "source": [
    "> 4. Tracer Em en fonction de x. Faire un schéma approximatif sur le cahier représentant Ec, Ep, Em en fonction de x. Que remarquez vous?"
   ]
  },
  {
   "cell_type": "code",
   "execution_count": null,
   "id": "excessive-agreement",
   "metadata": {},
   "outputs": [],
   "source": []
  }
 ],
 "metadata": {
  "kernelspec": {
   "display_name": "Python 3",
   "language": "python",
   "name": "python3"
  },
  "language_info": {
   "codemirror_mode": {
    "name": "ipython",
    "version": 3
   },
   "file_extension": ".py",
   "mimetype": "text/x-python",
   "name": "python",
   "nbconvert_exporter": "python",
   "pygments_lexer": "ipython3",
   "version": "3.7.9"
  }
 },
 "nbformat": 4,
 "nbformat_minor": 5
}
